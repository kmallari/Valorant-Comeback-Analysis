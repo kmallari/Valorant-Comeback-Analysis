{
 "cells": [
  {
   "cell_type": "code",
   "execution_count": 11,
   "metadata": {
    "collapsed": true,
    "pycharm": {
     "name": "#%%\n"
    }
   },
   "outputs": [],
   "source": [
    "# module import\n",
    "import pandas as pd\n",
    "import numpy as np\n",
    "import pathlib as pt\n",
    "import os\n",
    "import os.path as op\n",
    "import matplotlib.pyplot as plt"
   ]
  },
  {
   "cell_type": "code",
   "execution_count": 12,
   "outputs": [],
   "source": [
    "# filepath and file name\n",
    "owd = os.getcwd()\n",
    "home = str(owd)\n",
    "directory = 'Source Files'\n",
    "os.chdir(f'{home}/{directory}')\n",
    "all_fns = os.listdir(str(os.getcwd()))\n",
    "fns = [fn for fn in all_fns if fn.endswith('.xlsx')]\n",
    "os.chdir(owd)\n",
    "\n",
    "rounds = []\n",
    "matches = []\n",
    "round_player_stats = []\n",
    "\n",
    "for fn in fns:\n",
    "    rounds.append(pd.read_excel(os.path.join(home, directory, fn), sheet_name='Rounds'))\n",
    "    matches.append(pd.read_excel(os.path.join(home, directory, fn), sheet_name='Matches'))\n",
    "    round_player_stats.append(pd.read_excel(os.path.join(home, directory, fn), sheet_name='Round Player Stats'))\n",
    "\n",
    "df_rounds = pd.concat(rounds, axis=0, ignore_index=True)\n",
    "df_matches = pd.concat(matches, axis=0, ignore_index=True)\n",
    "df_round_player_stats = pd.concat(round_player_stats, axis=0, ignore_index=True)\n",
    "\n",
    "# making various outcome dataframes\n",
    "df_rounds[\"halfScore\"] = df_rounds[df_rounds.half == 'first'].groupby(['matchId', 'winningTeamId']).transform(\"size\")\n",
    "df7_5 = df_rounds.loc[df_rounds['halfScore'].isin([7])]\n",
    "df8_4 = df_rounds.loc[df_rounds['halfScore'].isin([8])]\n",
    "df9_3 = df_rounds.loc[df_rounds['halfScore'].isin([9])]\n",
    "df10_2 = df_rounds.loc[df_rounds['halfScore'].isin([10])]\n",
    "df11_1 = df_rounds.loc[df_rounds['halfScore'].isin([11])]\n",
    "df12_0 = df_rounds.loc[df_rounds['halfScore'].isin([12])]\n",
    "# TODO: INSPECTION AND CLEANING OF DATA\n",
    "\n",
    "# array of various outcomes\n",
    "outcomes = [\"7-5\",\"8-4\",\"9-3\",\"10-2\",\"11-1\",\"12-0\"]\n",
    "dataframes = [df7_5, df8_4, df9_3, df10_2, df11_1, df12_0]\n",
    "result = {}"
   ],
   "metadata": {
    "collapsed": false,
    "pycharm": {
     "name": "#%%\n"
    }
   }
  },
  {
   "cell_type": "code",
   "execution_count": 13,
   "outputs": [],
   "source": [
    "for i, df in enumerate(dataframes):\n",
    "    first_half_scores = df.groupby(['matchId', 'winningTeamId','attackingTeamId']).aggregate(score=('winningTeamId','count')).reset_index()\n",
    "    first_half_scores = first_half_scores.rename(columns = {'winningTeamId': 'leadingTeamId', 'attackingTeamId': 'firstHalfAtkTeamId'})\n",
    "    df_outcome_matches = pd.DataFrame(pd.unique(df['matchId']), columns = ['MatchId_matches_df'])\n",
    "\n",
    "    # creating overall summary\n",
    "    match_with_leading = df_outcome_matches.merge(first_half_scores, how=\"left\", left_on=\"MatchId_matches_df\", right_on=\"matchId\")\n",
    "    df_summary = match_with_leading.merge(df_matches, how=\"left\", left_on=\"MatchId_matches_df\", right_on=\"matchId\").loc[:,['MatchId_matches_df','map','teamOneId','teamOneName','teamTwoId','teamTwoName','firstHalfAtkTeamId','winningTeamId','leadingTeamId']]\n",
    "    df_summary['comeback'] = np.where(df_summary['winningTeamId'] != df_summary['leadingTeamId'], True, False)\n",
    "    df_summary['trailingTeam2ndHalfSide'] = np.where(df_summary['firstHalfAtkTeamId'] != df_summary['leadingTeamId'], \"Def\", \"Atk\")\n",
    "\n",
    "    # calculating comeback probability\n",
    "    comebackProbability = df_summary[df_summary['comeback'] == True]['comeback'].aggregate('count') / df_summary['comeback'].aggregate('count')\n",
    "    comebackProbability_Atk = df_summary[(df_summary['comeback'] == True) & (df_summary['trailingTeam2ndHalfSide'] == \"Atk\")]['comeback'].aggregate('count') / df_summary[df_summary['trailingTeam2ndHalfSide'] == \"Atk\"]['comeback'].aggregate('count')\n",
    "    comebackProbability_Def = df_summary[(df_summary['comeback'] == True) & (df_summary['trailingTeam2ndHalfSide'] == \"Def\")]['comeback'].aggregate('count') / df_summary[df_summary['trailingTeam2ndHalfSide'] == \"Def\"]['comeback'].aggregate('count')\n",
    "\n",
    "    # comeback per map per side\n",
    "    map_comeback = df_summary[~df_summary['comeback']].groupby(['map','trailingTeam2ndHalfSide']).aggregate(comeback_occurrence=('comeback', 'count')).reset_index()\n",
    "    merge_map = df_summary.groupby(['map','trailingTeam2ndHalfSide']).aggregate(total_occurrence=('comeback','count'))\n",
    "    map_comeback = map_comeback.merge(merge_map, how=\"left\", left_on=['map','trailingTeam2ndHalfSide'], right_on=['map','trailingTeam2ndHalfSide'])\n",
    "    \n",
    "    map_comeback['comeback_occurrence'] = map_comeback['total_occurrence'] - map_comeback['comeback_occurrence']\n",
    "    map_comeback['comeback_probability'] = map_comeback['comeback_occurrence'] / map_comeback['total_occurrence']\n",
    "    \n",
    "    # team clutch stats\n",
    "    team_clutch_stats = df_round_player_stats.loc[:,['matchId','teamId','clutches','clutchOpportunities']].groupby(['matchId', 'teamId']).aggregate('sum').reset_index()\n",
    "    clutch_matches = df_outcome_matches.merge(team_clutch_stats, how=\"left\", left_on=\"MatchId_matches_df\", right_on=\"matchId\").loc[:,['matchId','teamId','clutches','clutchOpportunities']]\n",
    "    clutch_matches = clutch_matches.merge(df_summary.loc[:,['MatchId_matches_df','leadingTeamId','comeback']], how=\"left\", left_on=\"matchId\", right_on=\"MatchId_matches_df\").loc[:,['matchId','teamId','leadingTeamId','clutches','clutchOpportunities','comeback']]\n",
    "    \n",
    "    # getting losing teams at half\n",
    "    trailers_clutches = clutch_matches.loc[clutch_matches[\"teamId\"] != clutch_matches[\"leadingTeamId\"]]\n",
    "    trailers_clutches = trailers_clutches.loc[:,['comeback','clutches','clutchOpportunities']].groupby(['comeback']).aggregate('sum')\n",
    "    trailers_clutches['clutch_percentage'] = trailers_clutches['clutches'] / trailers_clutches['clutchOpportunities']\n",
    "\n",
    "    # kills to comebacks\n",
    "    player_kill_stats = df_round_player_stats.loc[df_round_player_stats['kills']>=3,['matchId','teamId','playerId','kills']].groupby(['matchId', 'teamId','playerId']).agg(killstreak=('kills','count')).reset_index()\n",
    "    player_kill_stats = player_kill_stats.loc[:,['matchId','teamId','killstreak']].groupby(['matchId', 'teamId']).aggregate(\"sum\").reset_index()\n",
    "    kills_comebacks = df_outcome_matches.merge(player_kill_stats, how=\"left\", left_on=\"MatchId_matches_df\", right_on=\"matchId\").loc[:,['matchId','teamId','killstreak']]\n",
    "    kills_comebacks_summary = kills_comebacks.merge(df_summary, how=\"left\", left_on=\"matchId\", right_on=\"MatchId_matches_df\").loc[:,['matchId','winningTeamId','leadingTeamId','teamId','comeback','killstreak']]\n",
    "    kills_comebacks_summary['result'] = np.where(kills_comebacks_summary['winningTeamId'] != kills_comebacks_summary['teamId'], \"Loser\", \"Winner\")\n",
    "    successcomeback_kills = kills_comebacks_summary.loc[kills_comebacks_summary['comeback']== True,['result','killstreak']].groupby(['result']).agg(ave_killstreak=('killstreak','mean')).reset_index()\n",
    "    failcomeback_kills = kills_comebacks_summary.loc[kills_comebacks_summary['comeback']== False,['result','killstreak']].groupby(['result']).agg(ave_killstreak=('killstreak','mean')).reset_index()\n",
    "\n",
    "    # storing results\n",
    "    result[outcomes[i]] = {\n",
    "        \"summary\": df_summary,\n",
    "        \"overallComebackProbability\": comebackProbability,\n",
    "        \"atkComebackProbability\": comebackProbability_Atk,\n",
    "        \"defComebackProbability\": comebackProbability_Def,\n",
    "        \"mapComeback\": map_comeback,\n",
    "        \"losingteamClutches\": trailers_clutches,\n",
    "        \"successfulComebacksKills\": successcomeback_kills,\n",
    "        \"failComebacksKills\": failcomeback_kills\n",
    "    }"
   ],
   "metadata": {
    "collapsed": false,
    "pycharm": {
     "name": "#%%\n"
    }
   }
  },
  {
   "cell_type": "code",
   "execution_count": 14,
   "outputs": [],
   "source": [
    "# all outputs\n",
    "# for res in result:\n",
    "#     display(res)\n",
    "#     for x in result[res]:\n",
    "#         display(x, result[res][x])"
   ],
   "metadata": {
    "collapsed": false,
    "pycharm": {
     "name": "#%%\n"
    }
   }
  },
  {
   "cell_type": "code",
   "execution_count": 15,
   "outputs": [],
   "source": [
    "# df.to_csv('file_name.csv', index=False)"
   ],
   "metadata": {
    "collapsed": false,
    "pycharm": {
     "name": "#%%\n"
    }
   }
  },
  {
   "cell_type": "code",
   "execution_count": 16,
   "outputs": [],
   "source": [
    "x_comeback = []\n",
    "y_comeback = []\n",
    "for res in result:\n",
    "    x_comeback.append(res)\n",
    "    y_comeback.append(result[res][\"overallComebackProbability\"])"
   ],
   "metadata": {
    "collapsed": false,
    "pycharm": {
     "name": "#%%\n"
    }
   }
  },
  {
   "cell_type": "code",
   "execution_count": 17,
   "outputs": [
    {
     "data": {
      "text/plain": "<Figure size 640x480 with 1 Axes>",
      "image/png": "[encoded data removed]"
     },
     "metadata": {},
     "output_type": "display_data"
    }
   ],
   "source": [
    "plt.figure()\n",
    "plt.plot(x_comeback,y_comeback)\n",
    "plt.show()"
   ],
   "metadata": {
    "collapsed": false,
    "pycharm": {
     "name": "#%%\n"
    }
   }
  },
  {
   "cell_type": "code",
   "execution_count": 24,
   "outputs": [
    {
     "name": "stdout",
     "output_type": "stream",
     "text": [
      "['7-5', '8-4', '9-3', '10-2', '11-1', '12-0'] \n",
      " [0.32547864506627394, 0.17555938037865748, 0.05217391304347826, 0.01935483870967742, 0.0, 0.0]\n"
     ]
    }
   ],
   "source": [
    "print(x_comeback, '\\n', y_comeback)"
   ],
   "metadata": {
    "collapsed": false,
    "pycharm": {
     "name": "#%%\n"
    }
   }
  },
  {
   "cell_type": "code",
   "execution_count": 18,
   "outputs": [
    {
     "data": {
      "text/plain": "         map trailingTeam2ndHalfSide  comeback_occurrence  total_occurrence  \\\n0     Ascent                     Atk                    0                35   \n1     Ascent                     Def                    4                60   \n2       Bind                     Atk                    2                32   \n3       Bind                     Def                    0                25   \n4     Breeze                     Atk                    0                18   \n5     Breeze                     Def                    1                22   \n6   Fracture                     Atk                    1                20   \n7   Fracture                     Def                    1                20   \n8      Haven                     Atk                    1                53   \n9      Haven                     Def                    2                36   \n10    Icebox                     Atk                    5                34   \n11    Icebox                     Def                    2                41   \n12     Pearl                     Def                    0                 1   \n13     Split                     Atk                    1                28   \n14     Split                     Def                    4                35   \n\n    comeback_probability  \n0               0.000000  \n1               0.066667  \n2               0.062500  \n3               0.000000  \n4               0.000000  \n5               0.045455  \n6               0.050000  \n7               0.050000  \n8               0.018868  \n9               0.055556  \n10              0.147059  \n11              0.048780  \n12              0.000000  \n13              0.035714  \n14              0.114286  ",
      "text/html": "<div>\n<style scoped>\n    .dataframe tbody tr th:only-of-type {\n        vertical-align: middle;\n    }\n\n    .dataframe tbody tr th {\n        vertical-align: top;\n    }\n\n    .dataframe thead th {\n        text-align: right;\n    }\n</style>\n<table border=\"1\" class=\"dataframe\">\n  <thead>\n    <tr style=\"text-align: right;\">\n      <th></th>\n      <th>map</th>\n      <th>trailingTeam2ndHalfSide</th>\n      <th>comeback_occurrence</th>\n      <th>total_occurrence</th>\n      <th>comeback_probability</th>\n    </tr>\n  </thead>\n  <tbody>\n    <tr>\n      <th>0</th>\n      <td>Ascent</td>\n      <td>Atk</td>\n      <td>0</td>\n      <td>35</td>\n      <td>0.000000</td>\n    </tr>\n    <tr>\n      <th>1</th>\n      <td>Ascent</td>\n      <td>Def</td>\n      <td>4</td>\n      <td>60</td>\n      <td>0.066667</td>\n    </tr>\n    <tr>\n      <th>2</th>\n      <td>Bind</td>\n      <td>Atk</td>\n      <td>2</td>\n      <td>32</td>\n      <td>0.062500</td>\n    </tr>\n    <tr>\n      <th>3</th>\n      <td>Bind</td>\n      <td>Def</td>\n      <td>0</td>\n      <td>25</td>\n      <td>0.000000</td>\n    </tr>\n    <tr>\n      <th>4</th>\n      <td>Breeze</td>\n      <td>Atk</td>\n      <td>0</td>\n      <td>18</td>\n      <td>0.000000</td>\n    </tr>\n    <tr>\n      <th>5</th>\n      <td>Breeze</td>\n      <td>Def</td>\n      <td>1</td>\n      <td>22</td>\n      <td>0.045455</td>\n    </tr>\n    <tr>\n      <th>6</th>\n      <td>Fracture</td>\n      <td>Atk</td>\n      <td>1</td>\n      <td>20</td>\n      <td>0.050000</td>\n    </tr>\n    <tr>\n      <th>7</th>\n      <td>Fracture</td>\n      <td>Def</td>\n      <td>1</td>\n      <td>20</td>\n      <td>0.050000</td>\n    </tr>\n    <tr>\n      <th>8</th>\n      <td>Haven</td>\n      <td>Atk</td>\n      <td>1</td>\n      <td>53</td>\n      <td>0.018868</td>\n    </tr>\n    <tr>\n      <th>9</th>\n      <td>Haven</td>\n      <td>Def</td>\n      <td>2</td>\n      <td>36</td>\n      <td>0.055556</td>\n    </tr>\n    <tr>\n      <th>10</th>\n      <td>Icebox</td>\n      <td>Atk</td>\n      <td>5</td>\n      <td>34</td>\n      <td>0.147059</td>\n    </tr>\n    <tr>\n      <th>11</th>\n      <td>Icebox</td>\n      <td>Def</td>\n      <td>2</td>\n      <td>41</td>\n      <td>0.048780</td>\n    </tr>\n    <tr>\n      <th>12</th>\n      <td>Pearl</td>\n      <td>Def</td>\n      <td>0</td>\n      <td>1</td>\n      <td>0.000000</td>\n    </tr>\n    <tr>\n      <th>13</th>\n      <td>Split</td>\n      <td>Atk</td>\n      <td>1</td>\n      <td>28</td>\n      <td>0.035714</td>\n    </tr>\n    <tr>\n      <th>14</th>\n      <td>Split</td>\n      <td>Def</td>\n      <td>4</td>\n      <td>35</td>\n      <td>0.114286</td>\n    </tr>\n  </tbody>\n</table>\n</div>"
     },
     "execution_count": 18,
     "metadata": {},
     "output_type": "execute_result"
    }
   ],
   "source": [
    "result['9-3'][\"mapComeback\"]"
   ],
   "metadata": {
    "collapsed": false,
    "pycharm": {
     "name": "#%%\n"
    }
   }
  },
  {
   "cell_type": "code",
   "execution_count": 19,
   "outputs": [
    {
     "data": {
      "text/plain": "'7-5'"
     },
     "metadata": {},
     "output_type": "display_data"
    },
    {
     "data": {
      "text/plain": "         map trailingTeam2ndHalfSide  comeback_occurrence  total_occurrence  \\\n0     Ascent                     Atk                   15                59   \n1     Ascent                     Def                   15                47   \n2       Bind                     Atk                   10                45   \n3       Bind                     Def                   10                39   \n4     Breeze                     Atk                   13                45   \n5     Breeze                     Def                   20                53   \n6   Fracture                     Atk                   11                28   \n7   Fracture                     Def                   14                36   \n8      Haven                     Atk                   23                68   \n9      Haven                     Def                   19                72   \n10    Icebox                     Atk                   21                55   \n11    Icebox                     Def                   19                44   \n12     Split                     Atk                   11                39   \n13     Split                     Def                   20                49   \n\n    comeback_probability  \n0               0.254237  \n1               0.319149  \n2               0.222222  \n3               0.256410  \n4               0.288889  \n5               0.377358  \n6               0.392857  \n7               0.388889  \n8               0.338235  \n9               0.263889  \n10              0.381818  \n11              0.431818  \n12              0.282051  \n13              0.408163  ",
      "text/html": "<div>\n<style scoped>\n    .dataframe tbody tr th:only-of-type {\n        vertical-align: middle;\n    }\n\n    .dataframe tbody tr th {\n        vertical-align: top;\n    }\n\n    .dataframe thead th {\n        text-align: right;\n    }\n</style>\n<table border=\"1\" class=\"dataframe\">\n  <thead>\n    <tr style=\"text-align: right;\">\n      <th></th>\n      <th>map</th>\n      <th>trailingTeam2ndHalfSide</th>\n      <th>comeback_occurrence</th>\n      <th>total_occurrence</th>\n      <th>comeback_probability</th>\n    </tr>\n  </thead>\n  <tbody>\n    <tr>\n      <th>0</th>\n      <td>Ascent</td>\n      <td>Atk</td>\n      <td>15</td>\n      <td>59</td>\n      <td>0.254237</td>\n    </tr>\n    <tr>\n      <th>1</th>\n      <td>Ascent</td>\n      <td>Def</td>\n      <td>15</td>\n      <td>47</td>\n      <td>0.319149</td>\n    </tr>\n    <tr>\n      <th>2</th>\n      <td>Bind</td>\n      <td>Atk</td>\n      <td>10</td>\n      <td>45</td>\n      <td>0.222222</td>\n    </tr>\n    <tr>\n      <th>3</th>\n      <td>Bind</td>\n      <td>Def</td>\n      <td>10</td>\n      <td>39</td>\n      <td>0.256410</td>\n    </tr>\n    <tr>\n      <th>4</th>\n      <td>Breeze</td>\n      <td>Atk</td>\n      <td>13</td>\n      <td>45</td>\n      <td>0.288889</td>\n    </tr>\n    <tr>\n      <th>5</th>\n      <td>Breeze</td>\n      <td>Def</td>\n      <td>20</td>\n      <td>53</td>\n      <td>0.377358</td>\n    </tr>\n    <tr>\n      <th>6</th>\n      <td>Fracture</td>\n      <td>Atk</td>\n      <td>11</td>\n      <td>28</td>\n      <td>0.392857</td>\n    </tr>\n    <tr>\n      <th>7</th>\n      <td>Fracture</td>\n      <td>Def</td>\n      <td>14</td>\n      <td>36</td>\n      <td>0.388889</td>\n    </tr>\n    <tr>\n      <th>8</th>\n      <td>Haven</td>\n      <td>Atk</td>\n      <td>23</td>\n      <td>68</td>\n      <td>0.338235</td>\n    </tr>\n    <tr>\n      <th>9</th>\n      <td>Haven</td>\n      <td>Def</td>\n      <td>19</td>\n      <td>72</td>\n      <td>0.263889</td>\n    </tr>\n    <tr>\n      <th>10</th>\n      <td>Icebox</td>\n      <td>Atk</td>\n      <td>21</td>\n      <td>55</td>\n      <td>0.381818</td>\n    </tr>\n    <tr>\n      <th>11</th>\n      <td>Icebox</td>\n      <td>Def</td>\n      <td>19</td>\n      <td>44</td>\n      <td>0.431818</td>\n    </tr>\n    <tr>\n      <th>12</th>\n      <td>Split</td>\n      <td>Atk</td>\n      <td>11</td>\n      <td>39</td>\n      <td>0.282051</td>\n    </tr>\n    <tr>\n      <th>13</th>\n      <td>Split</td>\n      <td>Def</td>\n      <td>20</td>\n      <td>49</td>\n      <td>0.408163</td>\n    </tr>\n  </tbody>\n</table>\n</div>"
     },
     "metadata": {},
     "output_type": "display_data"
    },
    {
     "data": {
      "text/plain": "'8-4'"
     },
     "metadata": {},
     "output_type": "display_data"
    },
    {
     "data": {
      "text/plain": "         map trailingTeam2ndHalfSide  comeback_occurrence  total_occurrence  \\\n0     Ascent                     Atk                    5                51   \n1     Ascent                     Def                   10                46   \n2       Bind                     Atk                   13                37   \n3       Bind                     Def                    5                50   \n4     Breeze                     Atk                    7                40   \n5     Breeze                     Def                    4                30   \n6   Fracture                     Atk                    5                27   \n7   Fracture                     Def                    4                24   \n8      Haven                     Atk                   12                57   \n9      Haven                     Def                    5                52   \n10    Icebox                     Atk                    7                44   \n11    Icebox                     Def                    6                43   \n12     Pearl                     Atk                    0                 2   \n13     Split                     Atk                    4                37   \n14     Split                     Def                   13                39   \n\n    comeback_probability  \n0               0.098039  \n1               0.217391  \n2               0.351351  \n3               0.100000  \n4               0.175000  \n5               0.133333  \n6               0.185185  \n7               0.166667  \n8               0.210526  \n9               0.096154  \n10              0.159091  \n11              0.139535  \n12              0.000000  \n13              0.108108  \n14              0.333333  ",
      "text/html": "<div>\n<style scoped>\n    .dataframe tbody tr th:only-of-type {\n        vertical-align: middle;\n    }\n\n    .dataframe tbody tr th {\n        vertical-align: top;\n    }\n\n    .dataframe thead th {\n        text-align: right;\n    }\n</style>\n<table border=\"1\" class=\"dataframe\">\n  <thead>\n    <tr style=\"text-align: right;\">\n      <th></th>\n      <th>map</th>\n      <th>trailingTeam2ndHalfSide</th>\n      <th>comeback_occurrence</th>\n      <th>total_occurrence</th>\n      <th>comeback_probability</th>\n    </tr>\n  </thead>\n  <tbody>\n    <tr>\n      <th>0</th>\n      <td>Ascent</td>\n      <td>Atk</td>\n      <td>5</td>\n      <td>51</td>\n      <td>0.098039</td>\n    </tr>\n    <tr>\n      <th>1</th>\n      <td>Ascent</td>\n      <td>Def</td>\n      <td>10</td>\n      <td>46</td>\n      <td>0.217391</td>\n    </tr>\n    <tr>\n      <th>2</th>\n      <td>Bind</td>\n      <td>Atk</td>\n      <td>13</td>\n      <td>37</td>\n      <td>0.351351</td>\n    </tr>\n    <tr>\n      <th>3</th>\n      <td>Bind</td>\n      <td>Def</td>\n      <td>5</td>\n      <td>50</td>\n      <td>0.100000</td>\n    </tr>\n    <tr>\n      <th>4</th>\n      <td>Breeze</td>\n      <td>Atk</td>\n      <td>7</td>\n      <td>40</td>\n      <td>0.175000</td>\n    </tr>\n    <tr>\n      <th>5</th>\n      <td>Breeze</td>\n      <td>Def</td>\n      <td>4</td>\n      <td>30</td>\n      <td>0.133333</td>\n    </tr>\n    <tr>\n      <th>6</th>\n      <td>Fracture</td>\n      <td>Atk</td>\n      <td>5</td>\n      <td>27</td>\n      <td>0.185185</td>\n    </tr>\n    <tr>\n      <th>7</th>\n      <td>Fracture</td>\n      <td>Def</td>\n      <td>4</td>\n      <td>24</td>\n      <td>0.166667</td>\n    </tr>\n    <tr>\n      <th>8</th>\n      <td>Haven</td>\n      <td>Atk</td>\n      <td>12</td>\n      <td>57</td>\n      <td>0.210526</td>\n    </tr>\n    <tr>\n      <th>9</th>\n      <td>Haven</td>\n      <td>Def</td>\n      <td>5</td>\n      <td>52</td>\n      <td>0.096154</td>\n    </tr>\n    <tr>\n      <th>10</th>\n      <td>Icebox</td>\n      <td>Atk</td>\n      <td>7</td>\n      <td>44</td>\n      <td>0.159091</td>\n    </tr>\n    <tr>\n      <th>11</th>\n      <td>Icebox</td>\n      <td>Def</td>\n      <td>6</td>\n      <td>43</td>\n      <td>0.139535</td>\n    </tr>\n    <tr>\n      <th>12</th>\n      <td>Pearl</td>\n      <td>Atk</td>\n      <td>0</td>\n      <td>2</td>\n      <td>0.000000</td>\n    </tr>\n    <tr>\n      <th>13</th>\n      <td>Split</td>\n      <td>Atk</td>\n      <td>4</td>\n      <td>37</td>\n      <td>0.108108</td>\n    </tr>\n    <tr>\n      <th>14</th>\n      <td>Split</td>\n      <td>Def</td>\n      <td>13</td>\n      <td>39</td>\n      <td>0.333333</td>\n    </tr>\n  </tbody>\n</table>\n</div>"
     },
     "metadata": {},
     "output_type": "display_data"
    },
    {
     "data": {
      "text/plain": "'9-3'"
     },
     "metadata": {},
     "output_type": "display_data"
    },
    {
     "data": {
      "text/plain": "         map trailingTeam2ndHalfSide  comeback_occurrence  total_occurrence  \\\n0     Ascent                     Atk                    0                35   \n1     Ascent                     Def                    4                60   \n2       Bind                     Atk                    2                32   \n3       Bind                     Def                    0                25   \n4     Breeze                     Atk                    0                18   \n5     Breeze                     Def                    1                22   \n6   Fracture                     Atk                    1                20   \n7   Fracture                     Def                    1                20   \n8      Haven                     Atk                    1                53   \n9      Haven                     Def                    2                36   \n10    Icebox                     Atk                    5                34   \n11    Icebox                     Def                    2                41   \n12     Pearl                     Def                    0                 1   \n13     Split                     Atk                    1                28   \n14     Split                     Def                    4                35   \n\n    comeback_probability  \n0               0.000000  \n1               0.066667  \n2               0.062500  \n3               0.000000  \n4               0.000000  \n5               0.045455  \n6               0.050000  \n7               0.050000  \n8               0.018868  \n9               0.055556  \n10              0.147059  \n11              0.048780  \n12              0.000000  \n13              0.035714  \n14              0.114286  ",
      "text/html": "<div>\n<style scoped>\n    .dataframe tbody tr th:only-of-type {\n        vertical-align: middle;\n    }\n\n    .dataframe tbody tr th {\n        vertical-align: top;\n    }\n\n    .dataframe thead th {\n        text-align: right;\n    }\n</style>\n<table border=\"1\" class=\"dataframe\">\n  <thead>\n    <tr style=\"text-align: right;\">\n      <th></th>\n      <th>map</th>\n      <th>trailingTeam2ndHalfSide</th>\n      <th>comeback_occurrence</th>\n      <th>total_occurrence</th>\n      <th>comeback_probability</th>\n    </tr>\n  </thead>\n  <tbody>\n    <tr>\n      <th>0</th>\n      <td>Ascent</td>\n      <td>Atk</td>\n      <td>0</td>\n      <td>35</td>\n      <td>0.000000</td>\n    </tr>\n    <tr>\n      <th>1</th>\n      <td>Ascent</td>\n      <td>Def</td>\n      <td>4</td>\n      <td>60</td>\n      <td>0.066667</td>\n    </tr>\n    <tr>\n      <th>2</th>\n      <td>Bind</td>\n      <td>Atk</td>\n      <td>2</td>\n      <td>32</td>\n      <td>0.062500</td>\n    </tr>\n    <tr>\n      <th>3</th>\n      <td>Bind</td>\n      <td>Def</td>\n      <td>0</td>\n      <td>25</td>\n      <td>0.000000</td>\n    </tr>\n    <tr>\n      <th>4</th>\n      <td>Breeze</td>\n      <td>Atk</td>\n      <td>0</td>\n      <td>18</td>\n      <td>0.000000</td>\n    </tr>\n    <tr>\n      <th>5</th>\n      <td>Breeze</td>\n      <td>Def</td>\n      <td>1</td>\n      <td>22</td>\n      <td>0.045455</td>\n    </tr>\n    <tr>\n      <th>6</th>\n      <td>Fracture</td>\n      <td>Atk</td>\n      <td>1</td>\n      <td>20</td>\n      <td>0.050000</td>\n    </tr>\n    <tr>\n      <th>7</th>\n      <td>Fracture</td>\n      <td>Def</td>\n      <td>1</td>\n      <td>20</td>\n      <td>0.050000</td>\n    </tr>\n    <tr>\n      <th>8</th>\n      <td>Haven</td>\n      <td>Atk</td>\n      <td>1</td>\n      <td>53</td>\n      <td>0.018868</td>\n    </tr>\n    <tr>\n      <th>9</th>\n      <td>Haven</td>\n      <td>Def</td>\n      <td>2</td>\n      <td>36</td>\n      <td>0.055556</td>\n    </tr>\n    <tr>\n      <th>10</th>\n      <td>Icebox</td>\n      <td>Atk</td>\n      <td>5</td>\n      <td>34</td>\n      <td>0.147059</td>\n    </tr>\n    <tr>\n      <th>11</th>\n      <td>Icebox</td>\n      <td>Def</td>\n      <td>2</td>\n      <td>41</td>\n      <td>0.048780</td>\n    </tr>\n    <tr>\n      <th>12</th>\n      <td>Pearl</td>\n      <td>Def</td>\n      <td>0</td>\n      <td>1</td>\n      <td>0.000000</td>\n    </tr>\n    <tr>\n      <th>13</th>\n      <td>Split</td>\n      <td>Atk</td>\n      <td>1</td>\n      <td>28</td>\n      <td>0.035714</td>\n    </tr>\n    <tr>\n      <th>14</th>\n      <td>Split</td>\n      <td>Def</td>\n      <td>4</td>\n      <td>35</td>\n      <td>0.114286</td>\n    </tr>\n  </tbody>\n</table>\n</div>"
     },
     "metadata": {},
     "output_type": "display_data"
    },
    {
     "data": {
      "text/plain": "'10-2'"
     },
     "metadata": {},
     "output_type": "display_data"
    },
    {
     "data": {
      "text/plain": "         map trailingTeam2ndHalfSide  comeback_occurrence  total_occurrence  \\\n0     Ascent                     Atk                    0                25   \n1     Ascent                     Def                    2                36   \n2       Bind                     Atk                    1                21   \n3       Bind                     Def                    0                22   \n4     Breeze                     Atk                    0                23   \n5     Breeze                     Def                    0                18   \n6   Fracture                     Atk                    1                15   \n7   Fracture                     Def                    0                13   \n8      Haven                     Atk                    1                24   \n9      Haven                     Def                    0                21   \n10    Icebox                     Atk                    0                28   \n11    Icebox                     Def                    0                25   \n12     Split                     Atk                    0                18   \n13     Split                     Def                    0                20   \n\n    comeback_probability  \n0               0.000000  \n1               0.055556  \n2               0.047619  \n3               0.000000  \n4               0.000000  \n5               0.000000  \n6               0.066667  \n7               0.000000  \n8               0.041667  \n9               0.000000  \n10              0.000000  \n11              0.000000  \n12              0.000000  \n13              0.000000  ",
      "text/html": "<div>\n<style scoped>\n    .dataframe tbody tr th:only-of-type {\n        vertical-align: middle;\n    }\n\n    .dataframe tbody tr th {\n        vertical-align: top;\n    }\n\n    .dataframe thead th {\n        text-align: right;\n    }\n</style>\n<table border=\"1\" class=\"dataframe\">\n  <thead>\n    <tr style=\"text-align: right;\">\n      <th></th>\n      <th>map</th>\n      <th>trailingTeam2ndHalfSide</th>\n      <th>comeback_occurrence</th>\n      <th>total_occurrence</th>\n      <th>comeback_probability</th>\n    </tr>\n  </thead>\n  <tbody>\n    <tr>\n      <th>0</th>\n      <td>Ascent</td>\n      <td>Atk</td>\n      <td>0</td>\n      <td>25</td>\n      <td>0.000000</td>\n    </tr>\n    <tr>\n      <th>1</th>\n      <td>Ascent</td>\n      <td>Def</td>\n      <td>2</td>\n      <td>36</td>\n      <td>0.055556</td>\n    </tr>\n    <tr>\n      <th>2</th>\n      <td>Bind</td>\n      <td>Atk</td>\n      <td>1</td>\n      <td>21</td>\n      <td>0.047619</td>\n    </tr>\n    <tr>\n      <th>3</th>\n      <td>Bind</td>\n      <td>Def</td>\n      <td>0</td>\n      <td>22</td>\n      <td>0.000000</td>\n    </tr>\n    <tr>\n      <th>4</th>\n      <td>Breeze</td>\n      <td>Atk</td>\n      <td>0</td>\n      <td>23</td>\n      <td>0.000000</td>\n    </tr>\n    <tr>\n      <th>5</th>\n      <td>Breeze</td>\n      <td>Def</td>\n      <td>0</td>\n      <td>18</td>\n      <td>0.000000</td>\n    </tr>\n    <tr>\n      <th>6</th>\n      <td>Fracture</td>\n      <td>Atk</td>\n      <td>1</td>\n      <td>15</td>\n      <td>0.066667</td>\n    </tr>\n    <tr>\n      <th>7</th>\n      <td>Fracture</td>\n      <td>Def</td>\n      <td>0</td>\n      <td>13</td>\n      <td>0.000000</td>\n    </tr>\n    <tr>\n      <th>8</th>\n      <td>Haven</td>\n      <td>Atk</td>\n      <td>1</td>\n      <td>24</td>\n      <td>0.041667</td>\n    </tr>\n    <tr>\n      <th>9</th>\n      <td>Haven</td>\n      <td>Def</td>\n      <td>0</td>\n      <td>21</td>\n      <td>0.000000</td>\n    </tr>\n    <tr>\n      <th>10</th>\n      <td>Icebox</td>\n      <td>Atk</td>\n      <td>0</td>\n      <td>28</td>\n      <td>0.000000</td>\n    </tr>\n    <tr>\n      <th>11</th>\n      <td>Icebox</td>\n      <td>Def</td>\n      <td>0</td>\n      <td>25</td>\n      <td>0.000000</td>\n    </tr>\n    <tr>\n      <th>12</th>\n      <td>Split</td>\n      <td>Atk</td>\n      <td>0</td>\n      <td>18</td>\n      <td>0.000000</td>\n    </tr>\n    <tr>\n      <th>13</th>\n      <td>Split</td>\n      <td>Def</td>\n      <td>0</td>\n      <td>20</td>\n      <td>0.000000</td>\n    </tr>\n  </tbody>\n</table>\n</div>"
     },
     "metadata": {},
     "output_type": "display_data"
    },
    {
     "data": {
      "text/plain": "'11-1'"
     },
     "metadata": {},
     "output_type": "display_data"
    },
    {
     "data": {
      "text/plain": "         map trailingTeam2ndHalfSide  comeback_occurrence  total_occurrence  \\\n0     Ascent                     Atk                    0                 5   \n1     Ascent                     Def                    0                18   \n2       Bind                     Atk                    0                17   \n3       Bind                     Def                    0                 5   \n4     Breeze                     Atk                    0                 6   \n5     Breeze                     Def                    0                11   \n6   Fracture                     Atk                    0                 6   \n7   Fracture                     Def                    0                 5   \n8      Haven                     Atk                    0                 9   \n9      Haven                     Def                    0                20   \n10    Icebox                     Atk                    0                 8   \n11    Icebox                     Def                    0                 7   \n12     Split                     Atk                    0                 7   \n13     Split                     Def                    0                 7   \n\n    comeback_probability  \n0                    0.0  \n1                    0.0  \n2                    0.0  \n3                    0.0  \n4                    0.0  \n5                    0.0  \n6                    0.0  \n7                    0.0  \n8                    0.0  \n9                    0.0  \n10                   0.0  \n11                   0.0  \n12                   0.0  \n13                   0.0  ",
      "text/html": "<div>\n<style scoped>\n    .dataframe tbody tr th:only-of-type {\n        vertical-align: middle;\n    }\n\n    .dataframe tbody tr th {\n        vertical-align: top;\n    }\n\n    .dataframe thead th {\n        text-align: right;\n    }\n</style>\n<table border=\"1\" class=\"dataframe\">\n  <thead>\n    <tr style=\"text-align: right;\">\n      <th></th>\n      <th>map</th>\n      <th>trailingTeam2ndHalfSide</th>\n      <th>comeback_occurrence</th>\n      <th>total_occurrence</th>\n      <th>comeback_probability</th>\n    </tr>\n  </thead>\n  <tbody>\n    <tr>\n      <th>0</th>\n      <td>Ascent</td>\n      <td>Atk</td>\n      <td>0</td>\n      <td>5</td>\n      <td>0.0</td>\n    </tr>\n    <tr>\n      <th>1</th>\n      <td>Ascent</td>\n      <td>Def</td>\n      <td>0</td>\n      <td>18</td>\n      <td>0.0</td>\n    </tr>\n    <tr>\n      <th>2</th>\n      <td>Bind</td>\n      <td>Atk</td>\n      <td>0</td>\n      <td>17</td>\n      <td>0.0</td>\n    </tr>\n    <tr>\n      <th>3</th>\n      <td>Bind</td>\n      <td>Def</td>\n      <td>0</td>\n      <td>5</td>\n      <td>0.0</td>\n    </tr>\n    <tr>\n      <th>4</th>\n      <td>Breeze</td>\n      <td>Atk</td>\n      <td>0</td>\n      <td>6</td>\n      <td>0.0</td>\n    </tr>\n    <tr>\n      <th>5</th>\n      <td>Breeze</td>\n      <td>Def</td>\n      <td>0</td>\n      <td>11</td>\n      <td>0.0</td>\n    </tr>\n    <tr>\n      <th>6</th>\n      <td>Fracture</td>\n      <td>Atk</td>\n      <td>0</td>\n      <td>6</td>\n      <td>0.0</td>\n    </tr>\n    <tr>\n      <th>7</th>\n      <td>Fracture</td>\n      <td>Def</td>\n      <td>0</td>\n      <td>5</td>\n      <td>0.0</td>\n    </tr>\n    <tr>\n      <th>8</th>\n      <td>Haven</td>\n      <td>Atk</td>\n      <td>0</td>\n      <td>9</td>\n      <td>0.0</td>\n    </tr>\n    <tr>\n      <th>9</th>\n      <td>Haven</td>\n      <td>Def</td>\n      <td>0</td>\n      <td>20</td>\n      <td>0.0</td>\n    </tr>\n    <tr>\n      <th>10</th>\n      <td>Icebox</td>\n      <td>Atk</td>\n      <td>0</td>\n      <td>8</td>\n      <td>0.0</td>\n    </tr>\n    <tr>\n      <th>11</th>\n      <td>Icebox</td>\n      <td>Def</td>\n      <td>0</td>\n      <td>7</td>\n      <td>0.0</td>\n    </tr>\n    <tr>\n      <th>12</th>\n      <td>Split</td>\n      <td>Atk</td>\n      <td>0</td>\n      <td>7</td>\n      <td>0.0</td>\n    </tr>\n    <tr>\n      <th>13</th>\n      <td>Split</td>\n      <td>Def</td>\n      <td>0</td>\n      <td>7</td>\n      <td>0.0</td>\n    </tr>\n  </tbody>\n</table>\n</div>"
     },
     "metadata": {},
     "output_type": "display_data"
    },
    {
     "data": {
      "text/plain": "'12-0'"
     },
     "metadata": {},
     "output_type": "display_data"
    },
    {
     "data": {
      "text/plain": "       map trailingTeam2ndHalfSide  comeback_occurrence  total_occurrence  \\\n0   Ascent                     Atk                    0                 2   \n1   Ascent                     Def                    0                 8   \n2     Bind                     Atk                    0                 3   \n3     Bind                     Def                    0                 3   \n4   Breeze                     Atk                    0                 2   \n5   Breeze                     Def                    0                 5   \n6    Haven                     Atk                    0                 5   \n7    Haven                     Def                    0                 7   \n8   Icebox                     Atk                    0                 3   \n9   Icebox                     Def                    0                 6   \n10   Split                     Atk                    0                 2   \n11   Split                     Def                    0                 3   \n\n    comeback_probability  \n0                    0.0  \n1                    0.0  \n2                    0.0  \n3                    0.0  \n4                    0.0  \n5                    0.0  \n6                    0.0  \n7                    0.0  \n8                    0.0  \n9                    0.0  \n10                   0.0  \n11                   0.0  ",
      "text/html": "<div>\n<style scoped>\n    .dataframe tbody tr th:only-of-type {\n        vertical-align: middle;\n    }\n\n    .dataframe tbody tr th {\n        vertical-align: top;\n    }\n\n    .dataframe thead th {\n        text-align: right;\n    }\n</style>\n<table border=\"1\" class=\"dataframe\">\n  <thead>\n    <tr style=\"text-align: right;\">\n      <th></th>\n      <th>map</th>\n      <th>trailingTeam2ndHalfSide</th>\n      <th>comeback_occurrence</th>\n      <th>total_occurrence</th>\n      <th>comeback_probability</th>\n    </tr>\n  </thead>\n  <tbody>\n    <tr>\n      <th>0</th>\n      <td>Ascent</td>\n      <td>Atk</td>\n      <td>0</td>\n      <td>2</td>\n      <td>0.0</td>\n    </tr>\n    <tr>\n      <th>1</th>\n      <td>Ascent</td>\n      <td>Def</td>\n      <td>0</td>\n      <td>8</td>\n      <td>0.0</td>\n    </tr>\n    <tr>\n      <th>2</th>\n      <td>Bind</td>\n      <td>Atk</td>\n      <td>0</td>\n      <td>3</td>\n      <td>0.0</td>\n    </tr>\n    <tr>\n      <th>3</th>\n      <td>Bind</td>\n      <td>Def</td>\n      <td>0</td>\n      <td>3</td>\n      <td>0.0</td>\n    </tr>\n    <tr>\n      <th>4</th>\n      <td>Breeze</td>\n      <td>Atk</td>\n      <td>0</td>\n      <td>2</td>\n      <td>0.0</td>\n    </tr>\n    <tr>\n      <th>5</th>\n      <td>Breeze</td>\n      <td>Def</td>\n      <td>0</td>\n      <td>5</td>\n      <td>0.0</td>\n    </tr>\n    <tr>\n      <th>6</th>\n      <td>Haven</td>\n      <td>Atk</td>\n      <td>0</td>\n      <td>5</td>\n      <td>0.0</td>\n    </tr>\n    <tr>\n      <th>7</th>\n      <td>Haven</td>\n      <td>Def</td>\n      <td>0</td>\n      <td>7</td>\n      <td>0.0</td>\n    </tr>\n    <tr>\n      <th>8</th>\n      <td>Icebox</td>\n      <td>Atk</td>\n      <td>0</td>\n      <td>3</td>\n      <td>0.0</td>\n    </tr>\n    <tr>\n      <th>9</th>\n      <td>Icebox</td>\n      <td>Def</td>\n      <td>0</td>\n      <td>6</td>\n      <td>0.0</td>\n    </tr>\n    <tr>\n      <th>10</th>\n      <td>Split</td>\n      <td>Atk</td>\n      <td>0</td>\n      <td>2</td>\n      <td>0.0</td>\n    </tr>\n    <tr>\n      <th>11</th>\n      <td>Split</td>\n      <td>Def</td>\n      <td>0</td>\n      <td>3</td>\n      <td>0.0</td>\n    </tr>\n  </tbody>\n</table>\n</div>"
     },
     "metadata": {},
     "output_type": "display_data"
    }
   ],
   "source": [
    "for res in result:\n",
    "    display(res)\n",
    "    display(result[res][\"mapComeback\"])"
   ],
   "metadata": {
    "collapsed": false,
    "pycharm": {
     "name": "#%%\n"
    }
   }
  },
  {
   "cell_type": "code",
   "execution_count": 20,
   "outputs": [
    {
     "data": {
      "text/plain": "'7-5'"
     },
     "metadata": {},
     "output_type": "display_data"
    },
    {
     "data": {
      "text/plain": "          clutches  clutchOpportunities  clutch_percentage\ncomeback                                                  \nFalse          747                 6616           0.112908\nTrue           464                 2648           0.175227",
      "text/html": "<div>\n<style scoped>\n    .dataframe tbody tr th:only-of-type {\n        vertical-align: middle;\n    }\n\n    .dataframe tbody tr th {\n        vertical-align: top;\n    }\n\n    .dataframe thead th {\n        text-align: right;\n    }\n</style>\n<table border=\"1\" class=\"dataframe\">\n  <thead>\n    <tr style=\"text-align: right;\">\n      <th></th>\n      <th>clutches</th>\n      <th>clutchOpportunities</th>\n      <th>clutch_percentage</th>\n    </tr>\n    <tr>\n      <th>comeback</th>\n      <th></th>\n      <th></th>\n      <th></th>\n    </tr>\n  </thead>\n  <tbody>\n    <tr>\n      <th>False</th>\n      <td>747</td>\n      <td>6616</td>\n      <td>0.112908</td>\n    </tr>\n    <tr>\n      <th>True</th>\n      <td>464</td>\n      <td>2648</td>\n      <td>0.175227</td>\n    </tr>\n  </tbody>\n</table>\n</div>"
     },
     "metadata": {},
     "output_type": "display_data"
    },
    {
     "data": {
      "text/plain": "'8-4'"
     },
     "metadata": {},
     "output_type": "display_data"
    },
    {
     "data": {
      "text/plain": "          clutches  clutchOpportunities  clutch_percentage\ncomeback                                                  \nFalse          690                 6779           0.101785\nTrue           210                 1303           0.161167",
      "text/html": "<div>\n<style scoped>\n    .dataframe tbody tr th:only-of-type {\n        vertical-align: middle;\n    }\n\n    .dataframe tbody tr th {\n        vertical-align: top;\n    }\n\n    .dataframe thead th {\n        text-align: right;\n    }\n</style>\n<table border=\"1\" class=\"dataframe\">\n  <thead>\n    <tr style=\"text-align: right;\">\n      <th></th>\n      <th>clutches</th>\n      <th>clutchOpportunities</th>\n      <th>clutch_percentage</th>\n    </tr>\n    <tr>\n      <th>comeback</th>\n      <th></th>\n      <th></th>\n      <th></th>\n    </tr>\n  </thead>\n  <tbody>\n    <tr>\n      <th>False</th>\n      <td>690</td>\n      <td>6779</td>\n      <td>0.101785</td>\n    </tr>\n    <tr>\n      <th>True</th>\n      <td>210</td>\n      <td>1303</td>\n      <td>0.161167</td>\n    </tr>\n  </tbody>\n</table>\n</div>"
     },
     "metadata": {},
     "output_type": "display_data"
    },
    {
     "data": {
      "text/plain": "'9-3'"
     },
     "metadata": {},
     "output_type": "display_data"
    },
    {
     "data": {
      "text/plain": "          clutches  clutchOpportunities  clutch_percentage\ncomeback                                                  \nFalse          506                 6043           0.083733\nTrue            50                  309           0.161812",
      "text/html": "<div>\n<style scoped>\n    .dataframe tbody tr th:only-of-type {\n        vertical-align: middle;\n    }\n\n    .dataframe tbody tr th {\n        vertical-align: top;\n    }\n\n    .dataframe thead th {\n        text-align: right;\n    }\n</style>\n<table border=\"1\" class=\"dataframe\">\n  <thead>\n    <tr style=\"text-align: right;\">\n      <th></th>\n      <th>clutches</th>\n      <th>clutchOpportunities</th>\n      <th>clutch_percentage</th>\n    </tr>\n    <tr>\n      <th>comeback</th>\n      <th></th>\n      <th></th>\n      <th></th>\n    </tr>\n  </thead>\n  <tbody>\n    <tr>\n      <th>False</th>\n      <td>506</td>\n      <td>6043</td>\n      <td>0.083733</td>\n    </tr>\n    <tr>\n      <th>True</th>\n      <td>50</td>\n      <td>309</td>\n      <td>0.161812</td>\n    </tr>\n  </tbody>\n</table>\n</div>"
     },
     "metadata": {},
     "output_type": "display_data"
    },
    {
     "data": {
      "text/plain": "'10-2'"
     },
     "metadata": {},
     "output_type": "display_data"
    },
    {
     "data": {
      "text/plain": "          clutches  clutchOpportunities  clutch_percentage\ncomeback                                                  \nFalse          270                 4098           0.065886\nTrue            14                   87           0.160920",
      "text/html": "<div>\n<style scoped>\n    .dataframe tbody tr th:only-of-type {\n        vertical-align: middle;\n    }\n\n    .dataframe tbody tr th {\n        vertical-align: top;\n    }\n\n    .dataframe thead th {\n        text-align: right;\n    }\n</style>\n<table border=\"1\" class=\"dataframe\">\n  <thead>\n    <tr style=\"text-align: right;\">\n      <th></th>\n      <th>clutches</th>\n      <th>clutchOpportunities</th>\n      <th>clutch_percentage</th>\n    </tr>\n    <tr>\n      <th>comeback</th>\n      <th></th>\n      <th></th>\n      <th></th>\n    </tr>\n  </thead>\n  <tbody>\n    <tr>\n      <th>False</th>\n      <td>270</td>\n      <td>4098</td>\n      <td>0.065886</td>\n    </tr>\n    <tr>\n      <th>True</th>\n      <td>14</td>\n      <td>87</td>\n      <td>0.160920</td>\n    </tr>\n  </tbody>\n</table>\n</div>"
     },
     "metadata": {},
     "output_type": "display_data"
    },
    {
     "data": {
      "text/plain": "'11-1'"
     },
     "metadata": {},
     "output_type": "display_data"
    },
    {
     "data": {
      "text/plain": "          clutches  clutchOpportunities  clutch_percentage\ncomeback                                                  \nFalse           72                 1736           0.041475",
      "text/html": "<div>\n<style scoped>\n    .dataframe tbody tr th:only-of-type {\n        vertical-align: middle;\n    }\n\n    .dataframe tbody tr th {\n        vertical-align: top;\n    }\n\n    .dataframe thead th {\n        text-align: right;\n    }\n</style>\n<table border=\"1\" class=\"dataframe\">\n  <thead>\n    <tr style=\"text-align: right;\">\n      <th></th>\n      <th>clutches</th>\n      <th>clutchOpportunities</th>\n      <th>clutch_percentage</th>\n    </tr>\n    <tr>\n      <th>comeback</th>\n      <th></th>\n      <th></th>\n      <th></th>\n    </tr>\n  </thead>\n  <tbody>\n    <tr>\n      <th>False</th>\n      <td>72</td>\n      <td>1736</td>\n      <td>0.041475</td>\n    </tr>\n  </tbody>\n</table>\n</div>"
     },
     "metadata": {},
     "output_type": "display_data"
    },
    {
     "data": {
      "text/plain": "'12-0'"
     },
     "metadata": {},
     "output_type": "display_data"
    },
    {
     "data": {
      "text/plain": "          clutches  clutchOpportunities  clutch_percentage\ncomeback                                                  \nFalse            8                  635           0.012598",
      "text/html": "<div>\n<style scoped>\n    .dataframe tbody tr th:only-of-type {\n        vertical-align: middle;\n    }\n\n    .dataframe tbody tr th {\n        vertical-align: top;\n    }\n\n    .dataframe thead th {\n        text-align: right;\n    }\n</style>\n<table border=\"1\" class=\"dataframe\">\n  <thead>\n    <tr style=\"text-align: right;\">\n      <th></th>\n      <th>clutches</th>\n      <th>clutchOpportunities</th>\n      <th>clutch_percentage</th>\n    </tr>\n    <tr>\n      <th>comeback</th>\n      <th></th>\n      <th></th>\n      <th></th>\n    </tr>\n  </thead>\n  <tbody>\n    <tr>\n      <th>False</th>\n      <td>8</td>\n      <td>635</td>\n      <td>0.012598</td>\n    </tr>\n  </tbody>\n</table>\n</div>"
     },
     "metadata": {},
     "output_type": "display_data"
    }
   ],
   "source": [
    "# result[\"9-3\"][\"losingteamClutches\"]\n",
    "for res in result:\n",
    "    display(res)\n",
    "    display(result[res][\"losingteamClutches\"])"
   ],
   "metadata": {
    "collapsed": false,
    "pycharm": {
     "name": "#%%\n"
    }
   }
  },
  {
   "cell_type": "code",
   "execution_count": 21,
   "outputs": [
    {
     "data": {
      "text/plain": "['7-5', '8-4', '9-3', '10-2', '11-1', '12-0']"
     },
     "metadata": {},
     "output_type": "display_data"
    },
    {
     "data": {
      "text/plain": "[0.32547864506627394,\n 0.17555938037865748,\n 0.05217391304347826,\n 0.01935483870967742,\n 0.0,\n 0.0]"
     },
     "metadata": {},
     "output_type": "display_data"
    }
   ],
   "source": [
    "display(x_comeback)\n",
    "display(y_comeback)"
   ],
   "metadata": {
    "collapsed": false,
    "pycharm": {
     "name": "#%%\n"
    }
   }
  },
  {
   "cell_type": "code",
   "execution_count": 22,
   "outputs": [
    {
     "data": {
      "text/plain": "'7-5'"
     },
     "metadata": {},
     "output_type": "display_data"
    },
    {
     "data": {
      "text/plain": "   result  ave_killstreak\n0   Loser        5.172727\n1  Winner        6.368182",
      "text/html": "<div>\n<style scoped>\n    .dataframe tbody tr th:only-of-type {\n        vertical-align: middle;\n    }\n\n    .dataframe tbody tr th {\n        vertical-align: top;\n    }\n\n    .dataframe thead th {\n        text-align: right;\n    }\n</style>\n<table border=\"1\" class=\"dataframe\">\n  <thead>\n    <tr style=\"text-align: right;\">\n      <th></th>\n      <th>result</th>\n      <th>ave_killstreak</th>\n    </tr>\n  </thead>\n  <tbody>\n    <tr>\n      <th>0</th>\n      <td>Loser</td>\n      <td>5.172727</td>\n    </tr>\n    <tr>\n      <th>1</th>\n      <td>Winner</td>\n      <td>6.368182</td>\n    </tr>\n  </tbody>\n</table>\n</div>"
     },
     "metadata": {},
     "output_type": "display_data"
    },
    {
     "data": {
      "text/plain": "   result  ave_killstreak\n0   Loser        4.488938\n1  Winner        6.223195",
      "text/html": "<div>\n<style scoped>\n    .dataframe tbody tr th:only-of-type {\n        vertical-align: middle;\n    }\n\n    .dataframe tbody tr th {\n        vertical-align: top;\n    }\n\n    .dataframe thead th {\n        text-align: right;\n    }\n</style>\n<table border=\"1\" class=\"dataframe\">\n  <thead>\n    <tr style=\"text-align: right;\">\n      <th></th>\n      <th>result</th>\n      <th>ave_killstreak</th>\n    </tr>\n  </thead>\n  <tbody>\n    <tr>\n      <th>0</th>\n      <td>Loser</td>\n      <td>4.488938</td>\n    </tr>\n    <tr>\n      <th>1</th>\n      <td>Winner</td>\n      <td>6.223195</td>\n    </tr>\n  </tbody>\n</table>\n</div>"
     },
     "metadata": {},
     "output_type": "display_data"
    },
    {
     "data": {
      "text/plain": "'8-4'"
     },
     "metadata": {},
     "output_type": "display_data"
    },
    {
     "data": {
      "text/plain": "   result  ave_killstreak\n0   Loser        5.509615\n1  Winner        6.480000",
      "text/html": "<div>\n<style scoped>\n    .dataframe tbody tr th:only-of-type {\n        vertical-align: middle;\n    }\n\n    .dataframe tbody tr th {\n        vertical-align: top;\n    }\n\n    .dataframe thead th {\n        text-align: right;\n    }\n</style>\n<table border=\"1\" class=\"dataframe\">\n  <thead>\n    <tr style=\"text-align: right;\">\n      <th></th>\n      <th>result</th>\n      <th>ave_killstreak</th>\n    </tr>\n  </thead>\n  <tbody>\n    <tr>\n      <th>0</th>\n      <td>Loser</td>\n      <td>5.509615</td>\n    </tr>\n    <tr>\n      <th>1</th>\n      <td>Winner</td>\n      <td>6.480000</td>\n    </tr>\n  </tbody>\n</table>\n</div>"
     },
     "metadata": {},
     "output_type": "display_data"
    },
    {
     "data": {
      "text/plain": "   result  ave_killstreak\n0   Loser        4.055085\n1  Winner        6.008368",
      "text/html": "<div>\n<style scoped>\n    .dataframe tbody tr th:only-of-type {\n        vertical-align: middle;\n    }\n\n    .dataframe tbody tr th {\n        vertical-align: top;\n    }\n\n    .dataframe thead th {\n        text-align: right;\n    }\n</style>\n<table border=\"1\" class=\"dataframe\">\n  <thead>\n    <tr style=\"text-align: right;\">\n      <th></th>\n      <th>result</th>\n      <th>ave_killstreak</th>\n    </tr>\n  </thead>\n  <tbody>\n    <tr>\n      <th>0</th>\n      <td>Loser</td>\n      <td>4.055085</td>\n    </tr>\n    <tr>\n      <th>1</th>\n      <td>Winner</td>\n      <td>6.008368</td>\n    </tr>\n  </tbody>\n</table>\n</div>"
     },
     "metadata": {},
     "output_type": "display_data"
    },
    {
     "data": {
      "text/plain": "'9-3'"
     },
     "metadata": {},
     "output_type": "display_data"
    },
    {
     "data": {
      "text/plain": "   result  ave_killstreak\n0   Loser        5.750000\n1  Winner        6.708333",
      "text/html": "<div>\n<style scoped>\n    .dataframe tbody tr th:only-of-type {\n        vertical-align: middle;\n    }\n\n    .dataframe tbody tr th {\n        vertical-align: top;\n    }\n\n    .dataframe thead th {\n        text-align: right;\n    }\n</style>\n<table border=\"1\" class=\"dataframe\">\n  <thead>\n    <tr style=\"text-align: right;\">\n      <th></th>\n      <th>result</th>\n      <th>ave_killstreak</th>\n    </tr>\n  </thead>\n  <tbody>\n    <tr>\n      <th>0</th>\n      <td>Loser</td>\n      <td>5.750000</td>\n    </tr>\n    <tr>\n      <th>1</th>\n      <td>Winner</td>\n      <td>6.708333</td>\n    </tr>\n  </tbody>\n</table>\n</div>"
     },
     "metadata": {},
     "output_type": "display_data"
    },
    {
     "data": {
      "text/plain": "   result  ave_killstreak\n0   Loser        3.330166\n1  Winner        5.928736",
      "text/html": "<div>\n<style scoped>\n    .dataframe tbody tr th:only-of-type {\n        vertical-align: middle;\n    }\n\n    .dataframe tbody tr th {\n        vertical-align: top;\n    }\n\n    .dataframe thead th {\n        text-align: right;\n    }\n</style>\n<table border=\"1\" class=\"dataframe\">\n  <thead>\n    <tr style=\"text-align: right;\">\n      <th></th>\n      <th>result</th>\n      <th>ave_killstreak</th>\n    </tr>\n  </thead>\n  <tbody>\n    <tr>\n      <th>0</th>\n      <td>Loser</td>\n      <td>3.330166</td>\n    </tr>\n    <tr>\n      <th>1</th>\n      <td>Winner</td>\n      <td>5.928736</td>\n    </tr>\n  </tbody>\n</table>\n</div>"
     },
     "metadata": {},
     "output_type": "display_data"
    },
    {
     "data": {
      "text/plain": "'10-2'"
     },
     "metadata": {},
     "output_type": "display_data"
    },
    {
     "data": {
      "text/plain": "   result  ave_killstreak\n0   Loser             5.0\n1  Winner             7.6",
      "text/html": "<div>\n<style scoped>\n    .dataframe tbody tr th:only-of-type {\n        vertical-align: middle;\n    }\n\n    .dataframe tbody tr th {\n        vertical-align: top;\n    }\n\n    .dataframe thead th {\n        text-align: right;\n    }\n</style>\n<table border=\"1\" class=\"dataframe\">\n  <thead>\n    <tr style=\"text-align: right;\">\n      <th></th>\n      <th>result</th>\n      <th>ave_killstreak</th>\n    </tr>\n  </thead>\n  <tbody>\n    <tr>\n      <th>0</th>\n      <td>Loser</td>\n      <td>5.0</td>\n    </tr>\n    <tr>\n      <th>1</th>\n      <td>Winner</td>\n      <td>7.6</td>\n    </tr>\n  </tbody>\n</table>\n</div>"
     },
     "metadata": {},
     "output_type": "display_data"
    },
    {
     "data": {
      "text/plain": "   result  ave_killstreak\n0   Loser        2.785965\n1  Winner        5.631579",
      "text/html": "<div>\n<style scoped>\n    .dataframe tbody tr th:only-of-type {\n        vertical-align: middle;\n    }\n\n    .dataframe tbody tr th {\n        vertical-align: top;\n    }\n\n    .dataframe thead th {\n        text-align: right;\n    }\n</style>\n<table border=\"1\" class=\"dataframe\">\n  <thead>\n    <tr style=\"text-align: right;\">\n      <th></th>\n      <th>result</th>\n      <th>ave_killstreak</th>\n    </tr>\n  </thead>\n  <tbody>\n    <tr>\n      <th>0</th>\n      <td>Loser</td>\n      <td>2.785965</td>\n    </tr>\n    <tr>\n      <th>1</th>\n      <td>Winner</td>\n      <td>5.631579</td>\n    </tr>\n  </tbody>\n</table>\n</div>"
     },
     "metadata": {},
     "output_type": "display_data"
    },
    {
     "data": {
      "text/plain": "'11-1'"
     },
     "metadata": {},
     "output_type": "display_data"
    },
    {
     "data": {
      "text/plain": "Empty DataFrame\nColumns: [result, ave_killstreak]\nIndex: []",
      "text/html": "<div>\n<style scoped>\n    .dataframe tbody tr th:only-of-type {\n        vertical-align: middle;\n    }\n\n    .dataframe tbody tr th {\n        vertical-align: top;\n    }\n\n    .dataframe thead th {\n        text-align: right;\n    }\n</style>\n<table border=\"1\" class=\"dataframe\">\n  <thead>\n    <tr style=\"text-align: right;\">\n      <th></th>\n      <th>result</th>\n      <th>ave_killstreak</th>\n    </tr>\n  </thead>\n  <tbody>\n  </tbody>\n</table>\n</div>"
     },
     "metadata": {},
     "output_type": "display_data"
    },
    {
     "data": {
      "text/plain": "   result  ave_killstreak\n0   Loser        2.342342\n1  Winner        5.435115",
      "text/html": "<div>\n<style scoped>\n    .dataframe tbody tr th:only-of-type {\n        vertical-align: middle;\n    }\n\n    .dataframe tbody tr th {\n        vertical-align: top;\n    }\n\n    .dataframe thead th {\n        text-align: right;\n    }\n</style>\n<table border=\"1\" class=\"dataframe\">\n  <thead>\n    <tr style=\"text-align: right;\">\n      <th></th>\n      <th>result</th>\n      <th>ave_killstreak</th>\n    </tr>\n  </thead>\n  <tbody>\n    <tr>\n      <th>0</th>\n      <td>Loser</td>\n      <td>2.342342</td>\n    </tr>\n    <tr>\n      <th>1</th>\n      <td>Winner</td>\n      <td>5.435115</td>\n    </tr>\n  </tbody>\n</table>\n</div>"
     },
     "metadata": {},
     "output_type": "display_data"
    },
    {
     "data": {
      "text/plain": "'12-0'"
     },
     "metadata": {},
     "output_type": "display_data"
    },
    {
     "data": {
      "text/plain": "Empty DataFrame\nColumns: [result, ave_killstreak]\nIndex: []",
      "text/html": "<div>\n<style scoped>\n    .dataframe tbody tr th:only-of-type {\n        vertical-align: middle;\n    }\n\n    .dataframe tbody tr th {\n        vertical-align: top;\n    }\n\n    .dataframe thead th {\n        text-align: right;\n    }\n</style>\n<table border=\"1\" class=\"dataframe\">\n  <thead>\n    <tr style=\"text-align: right;\">\n      <th></th>\n      <th>result</th>\n      <th>ave_killstreak</th>\n    </tr>\n  </thead>\n  <tbody>\n  </tbody>\n</table>\n</div>"
     },
     "metadata": {},
     "output_type": "display_data"
    },
    {
     "data": {
      "text/plain": "   result  ave_killstreak\n0   Loser        1.866667\n1  Winner        5.714286",
      "text/html": "<div>\n<style scoped>\n    .dataframe tbody tr th:only-of-type {\n        vertical-align: middle;\n    }\n\n    .dataframe tbody tr th {\n        vertical-align: top;\n    }\n\n    .dataframe thead th {\n        text-align: right;\n    }\n</style>\n<table border=\"1\" class=\"dataframe\">\n  <thead>\n    <tr style=\"text-align: right;\">\n      <th></th>\n      <th>result</th>\n      <th>ave_killstreak</th>\n    </tr>\n  </thead>\n  <tbody>\n    <tr>\n      <th>0</th>\n      <td>Loser</td>\n      <td>1.866667</td>\n    </tr>\n    <tr>\n      <th>1</th>\n      <td>Winner</td>\n      <td>5.714286</td>\n    </tr>\n  </tbody>\n</table>\n</div>"
     },
     "metadata": {},
     "output_type": "display_data"
    }
   ],
   "source": [
    "for res in result:\n",
    "    display(res)\n",
    "    display(result[res][\"successfulComebacksKills\"])\n",
    "    display(result[res][\"failComebacksKills\"])"
   ],
   "metadata": {
    "collapsed": false,
    "pycharm": {
     "name": "#%%\n"
    }
   }
  }
 ],
 "metadata": {
  "kernelspec": {
   "display_name": "Python 3",
   "language": "python",
   "name": "python3"
  },
  "language_info": {
   "codemirror_mode": {
    "name": "ipython",
    "version": 2
   },
   "file_extension": ".py",
   "mimetype": "text/x-python",
   "name": "python",
   "nbconvert_exporter": "python",
   "pygments_lexer": "ipython2",
   "version": "2.7.6"
  }
 },
 "nbformat": 4,
 "nbformat_minor": 0
}